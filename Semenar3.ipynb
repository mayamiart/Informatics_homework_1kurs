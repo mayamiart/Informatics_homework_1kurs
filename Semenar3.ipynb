{
  "nbformat": 4,
  "nbformat_minor": 0,
  "metadata": {
    "colab": {
      "provenance": []
    },
    "kernelspec": {
      "name": "python3",
      "display_name": "Python 3"
    },
    "language_info": {
      "name": "python"
    }
  },
  "cells": [
    {
      "cell_type": "code",
      "execution_count": null,
      "metadata": {
        "id": "Up5A9gbpBMoV",
        "colab": {
          "base_uri": "https://localhost:8080/"
        },
        "outputId": "6e675177-d90e-4bde-9c4e-62d9a2d67126"
      },
      "outputs": [
        {
          "output_type": "stream",
          "name": "stdout",
          "text": [
            "hello world\n",
            "\n",
            "tititiit\n",
            "\n",
            "rhthrtb\n",
            "\n",
            "grtggf\n",
            "\n",
            "\n",
            "\n",
            "\n",
            "\n",
            "\n"
          ]
        }
      ],
      "source": [
        "f = open('primer.txt','r')\n",
        "for s in range(10):\n",
        "  print(f.readline())"
      ]
    },
    {
      "cell_type": "code",
      "source": [
        "f = open('primer.txt','r')\n",
        "for line in f:\n",
        "  print(line)"
      ],
      "metadata": {
        "colab": {
          "base_uri": "https://localhost:8080/"
        },
        "id": "inYKO0UuLEi1",
        "outputId": "84fdff8e-240a-424b-a9db-3849d60c00b2"
      },
      "execution_count": null,
      "outputs": [
        {
          "output_type": "stream",
          "name": "stdout",
          "text": [
            "hello world\n",
            "\n",
            "tititiit\n",
            "\n",
            "rhthrtb\n",
            "\n",
            "grtggf\n"
          ]
        }
      ]
    },
    {
      "cell_type": "code",
      "source": [
        "f = open('primer2.txt','w')\n",
        "l=['1','2','3','4']\n",
        "for i in l:\n",
        "  f.write(i+'\\n')"
      ],
      "metadata": {
        "id": "NwdMczrjK6U6"
      },
      "execution_count": null,
      "outputs": []
    },
    {
      "cell_type": "code",
      "source": [
        "f = open('calc.txt','r')\n",
        "a = f.readline()\n",
        "z = f.readline()\n",
        "print(a)\n",
        "if z=='+':\n",
        "  print(f'Result of {z} operation with {a[0]} and {a[2]}:')\n",
        "  print(int(a[0])+int(a[2]))\n",
        "if z=='-':\n",
        "  print(f'Result of {z} operation with {a[0]} and {a[2]}:')\n",
        "  print(a[0]-a[2])\n",
        "if z=='*':\n",
        "  print(f'Result of {z} operation with {a[0]} and {a[2]}:')\n",
        "  print(a[0]*a[2])"
      ],
      "metadata": {
        "colab": {
          "base_uri": "https://localhost:8080/"
        },
        "id": "y8UgWVxNM4Dd",
        "outputId": "ad718695-4aa5-42d5-da4c-8b5e92c96d86"
      },
      "execution_count": null,
      "outputs": [
        {
          "output_type": "stream",
          "name": "stdout",
          "text": [
            "1 2\n",
            "\n",
            "Result of + operation with 1 and 2:\n",
            "3\n"
          ]
        }
      ]
    },
    {
      "cell_type": "code",
      "source": [
        "n=int(input())\n",
        "a=[True]*n\n",
        "a[0]=False\n",
        "for i in range(1,n+1):\n",
        "  for y in range(2, i):\n",
        "      if (i+1)%y==0:\n",
        "        a[i]=False\n",
        "  if a[i]==True:\n",
        "    print(i+1)"
      ],
      "metadata": {
        "colab": {
          "base_uri": "https://localhost:8080/",
          "height": 280
        },
        "id": "SHs3kS4RPGeG",
        "outputId": "0a1b4180-5dc5-4737-9267-c390ed6b46cf"
      },
      "execution_count": null,
      "outputs": [
        {
          "output_type": "stream",
          "name": "stdout",
          "text": [
            "10\n",
            "2\n",
            "3\n",
            "5\n",
            "7\n"
          ]
        },
        {
          "output_type": "error",
          "ename": "IndexError",
          "evalue": "list index out of range",
          "traceback": [
            "\u001b[0;31m---------------------------------------------------------------------------\u001b[0m",
            "\u001b[0;31mIndexError\u001b[0m                                Traceback (most recent call last)",
            "\u001b[0;32m/tmp/ipython-input-3106535985.py\u001b[0m in \u001b[0;36m<cell line: 0>\u001b[0;34m()\u001b[0m\n\u001b[1;32m      6\u001b[0m       \u001b[0;32mif\u001b[0m \u001b[0;34m(\u001b[0m\u001b[0mi\u001b[0m\u001b[0;34m+\u001b[0m\u001b[0;36m1\u001b[0m\u001b[0;34m)\u001b[0m\u001b[0;34m%\u001b[0m\u001b[0my\u001b[0m\u001b[0;34m==\u001b[0m\u001b[0;36m0\u001b[0m\u001b[0;34m:\u001b[0m\u001b[0;34m\u001b[0m\u001b[0;34m\u001b[0m\u001b[0m\n\u001b[1;32m      7\u001b[0m         \u001b[0ma\u001b[0m\u001b[0;34m[\u001b[0m\u001b[0mi\u001b[0m\u001b[0;34m]\u001b[0m\u001b[0;34m=\u001b[0m\u001b[0;32mFalse\u001b[0m\u001b[0;34m\u001b[0m\u001b[0;34m\u001b[0m\u001b[0m\n\u001b[0;32m----> 8\u001b[0;31m   \u001b[0;32mif\u001b[0m \u001b[0ma\u001b[0m\u001b[0;34m[\u001b[0m\u001b[0mi\u001b[0m\u001b[0;34m]\u001b[0m\u001b[0;34m==\u001b[0m\u001b[0;32mTrue\u001b[0m\u001b[0;34m:\u001b[0m\u001b[0;34m\u001b[0m\u001b[0;34m\u001b[0m\u001b[0m\n\u001b[0m\u001b[1;32m      9\u001b[0m     \u001b[0mprint\u001b[0m\u001b[0;34m(\u001b[0m\u001b[0mi\u001b[0m\u001b[0;34m+\u001b[0m\u001b[0;36m1\u001b[0m\u001b[0;34m)\u001b[0m\u001b[0;34m\u001b[0m\u001b[0;34m\u001b[0m\u001b[0m\n",
            "\u001b[0;31mIndexError\u001b[0m: list index out of range"
          ]
        }
      ]
    },
    {
      "cell_type": "code",
      "source": [
        "f = open('input78.txt','r')\n",
        "d=f.readline()\n",
        "a=[]\n",
        "c=0\n",
        "for i in range(len(d)):\n",
        "  a.append(d[i])\n",
        "print(a)\n",
        "for y in range(1,len(a)):\n",
        "  if (a[y]=='.' or a[y]=='!' or a[y]=='?') and a[y-1]!='.' and a[y-1]!='!' and a[y-1]!='?':\n",
        "      c+=1\n",
        "print(c)"
      ],
      "metadata": {
        "colab": {
          "base_uri": "https://localhost:8080/"
        },
        "id": "2qR7LEORTvqp",
        "outputId": "6daf35c1-0e15-43a6-e3dc-b6d81e319ce2"
      },
      "execution_count": null,
      "outputs": [
        {
          "output_type": "stream",
          "name": "stdout",
          "text": [
            "['H', 'e', 'l', 'l', 'o', '.', '.', '.', ' ', 'W', 'o', 'r', 'l', 'd', '?', '!']\n",
            "2\n"
          ]
        }
      ]
    },
    {
      "cell_type": "code",
      "source": [
        "f = open('input78.txt','r')\n",
        "d=f.readline()\n",
        "g=d.split(' ')\n",
        "d=''.join(g)\n",
        "print(d)\n",
        "v=0\n",
        "c=0\n",
        "l=0\n",
        "for i in range(len(d)):\n",
        "  l=d.count(d[i])\n",
        "  if l>c:\n",
        "    c=l\n",
        "print(c)"
      ],
      "metadata": {
        "colab": {
          "base_uri": "https://localhost:8080/"
        },
        "id": "gvA9ludGe4dN",
        "outputId": "37fbeb21-41f7-49a7-9582-1d1c2b9d54a7"
      },
      "execution_count": null,
      "outputs": [
        {
          "output_type": "stream",
          "name": "stdout",
          "text": [
            "123233\n",
            "3\n"
          ]
        }
      ]
    },
    {
      "cell_type": "code",
      "source": [
        "f = open('input78.txt','r')\n",
        "d=f.readline()\n",
        "g=d.split(' ')\n",
        "d=''.join(g)\n",
        "print(d)\n",
        "v=0\n",
        "s=[]\n",
        "for i in range(len(d)):\n",
        "  v=d.count(d[i])\n",
        "  if v==1:\n",
        "    s.append(d[i])\n",
        "print(' '.join(s))"
      ],
      "metadata": {
        "colab": {
          "base_uri": "https://localhost:8080/"
        },
        "id": "Wj6AEr5gib4p",
        "outputId": "89e1374b-2368-4852-aca8-11e6bed85931"
      },
      "execution_count": null,
      "outputs": [
        {
          "output_type": "stream",
          "name": "stdout",
          "text": [
            "12223335\n",
            "1 5\n"
          ]
        }
      ]
    },
    {
      "cell_type": "code",
      "source": [
        "N=int(input())\n",
        "a = list(map(int, input().split()))\n",
        "sr = (N-1)//2\n",
        "\n",
        "for i in a:\n",
        "  d = 0\n",
        "  for g in a:\n",
        "    if g<i:\n",
        "      d+=1\n",
        "  if d==sr:\n",
        "    print(i)\n",
        "    break"
      ],
      "metadata": {
        "colab": {
          "base_uri": "https://localhost:8080/"
        },
        "id": "hu4WpsabjKxe",
        "outputId": "172fca80-81aa-4d42-96e1-83a4d086cc83"
      },
      "execution_count": null,
      "outputs": [
        {
          "output_type": "stream",
          "name": "stdout",
          "text": [
            "5\n",
            "3 1 2 4 5\n",
            "3\n"
          ]
        }
      ]
    },
    {
      "cell_type": "code",
      "source": [
        "f = open('input78.txt','r')\n",
        "d=f.readline()\n",
        "a=d.split(' ')\n",
        "print(a)\n",
        "b=[]\n",
        "v=0\n",
        "if len(a)%2==0:\n",
        "  for y in range(0,len(a)-1,2):\n",
        "    b.append(a[y+1])\n",
        "    b.append(a[y])\n",
        "  print(b)\n",
        "else:\n",
        "  for y in range(0,len(a)-2,2):\n",
        "    b.append(a[y+1])\n",
        "    b.append(a[y])\n",
        "    v=y\n",
        "  print(v)\n",
        "  b.append(a[v+2])\n",
        "  print(b)"
      ],
      "metadata": {
        "colab": {
          "base_uri": "https://localhost:8080/"
        },
        "id": "9lyjQiMicE8N",
        "outputId": "8785a383-d0a7-4707-97a6-2b80029638d8"
      },
      "execution_count": null,
      "outputs": [
        {
          "output_type": "stream",
          "name": "stdout",
          "text": [
            "['1', '2', '3', '4', '5']\n",
            "2\n",
            "['2', '1', '4', '3', '5']\n"
          ]
        }
      ]
    },
    {
      "cell_type": "code",
      "source": [
        "f = open('input78.txt','r')\n",
        "d=f.readline()\n",
        "a=d.split(' ')\n",
        "print(a)\n",
        "a.insert(0,a[-1])\n",
        "a.pop()\n",
        "print(a)"
      ],
      "metadata": {
        "colab": {
          "base_uri": "https://localhost:8080/"
        },
        "id": "tFxoQhXVh4x5",
        "outputId": "fc8e1c9d-89bc-4632-e46a-82c6a1969177"
      },
      "execution_count": null,
      "outputs": [
        {
          "output_type": "stream",
          "name": "stdout",
          "text": [
            "['1', '2', '3', '4', '5']\n",
            "['5', '1', '2', '3', '4']\n"
          ]
        }
      ]
    }
  ]
}